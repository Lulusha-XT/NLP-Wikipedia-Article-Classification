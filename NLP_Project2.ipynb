{
 "cells": [
  {
   "cell_type": "code",
   "execution_count": 4,
   "id": "6357b298",
   "metadata": {},
   "outputs": [
    {
     "name": "stderr",
     "output_type": "stream",
     "text": [
      "[nltk_data] Downloading package punkt to\n",
      "[nltk_data]     C:\\Users\\leuls\\AppData\\Roaming\\nltk_data...\n",
      "[nltk_data]   Package punkt is already up-to-date!\n",
      "[nltk_data] Downloading package stopwords to\n",
      "[nltk_data]     C:\\Users\\leuls\\AppData\\Roaming\\nltk_data...\n",
      "[nltk_data]   Package stopwords is already up-to-date!\n"
     ]
    },
    {
     "name": "stdout",
     "output_type": "stream",
     "text": [
      "\n",
      "Overall Accuracy: 1.00\n",
      "\n",
      "Classification Report:\n",
      "                precision    recall  f1-score   support\n",
      "\n",
      "    geographic       1.00      1.00      1.00         5\n",
      "non-geographic       1.00      1.00      1.00         6\n",
      "\n",
      "      accuracy                           1.00        11\n",
      "     macro avg       1.00      1.00      1.00        11\n",
      "  weighted avg       1.00      1.00      1.00        11\n",
      "\n"
     ]
    }
   ],
   "source": [
    "import requests\n",
    "from sklearn.feature_extraction.text import CountVectorizer\n",
    "from sklearn.linear_model import LogisticRegression\n",
    "from sklearn.metrics import accuracy_score, classification_report\n",
    "from nltk.tokenize import word_tokenize\n",
    "from nltk.corpus import stopwords\n",
    "import nltk\n",
    "\n",
    "nltk.download('punkt')\n",
    "nltk.download('stopwords')\n",
    "\n",
    "# Wikipedia API endpoint\n",
    "wiki_api_url = \"https://en.wikipedia.org/w/api.php\"\n",
    "\n",
    "# Function to fetch Wikipedia content for a given title\n",
    "def fetch_wikipedia_content(article_title, num_sentences=2):\n",
    "    params = {\n",
    "        'action': 'query',\n",
    "        'format': 'json',\n",
    "        'titles': article_title,\n",
    "        'prop': 'extracts',\n",
    "        'exintro': True,\n",
    "        'explaintext': True,\n",
    "        'exsentences': num_sentences,\n",
    "    }\n",
    "    response = requests.get(wiki_api_url, params=params)\n",
    "    data = response.json()\n",
    "    page_id = next(iter(data['query']['pages']))\n",
    "    return data['query']['pages'][page_id]['extract']\n",
    "\n",
    "# Function to pre-process text\n",
    "def preprocess_text(text_content):\n",
    "    stop_words = set(stopwords.words('english'))\n",
    "    words = [word.lower() for word in word_tokenize(text_content) if word.isalnum() and word.lower() not in stop_words]\n",
    "    return ' '.join(words)\n",
    "\n",
    "# List of titles for geographic and non-geographic categories\n",
    "geographic_article_titles = [\"Geography\", \"Landforms\", \"Countries\", \"Cities\", \"Coordinates\"]\n",
    "non_geographic_article_titles = [\"Technology\", \"History_of_technology\", \"Engineering\", \"Computer_science\", \"Space_exploration\", \"Robotics\"]\n",
    "\n",
    "# Fetch content for geographic articles\n",
    "geographic_article_texts = [fetch_wikipedia_content(title) for title in geographic_article_titles]\n",
    "\n",
    "# Fetch content for non-geographic articles\n",
    "non_geographic_article_texts = [fetch_wikipedia_content(title) for title in non_geographic_article_titles]\n",
    "\n",
    "# Combine and preprocess data\n",
    "all_article_texts = geographic_article_texts + non_geographic_article_texts\n",
    "article_labels = ['geographic'] * len(geographic_article_texts) + ['non-geographic'] * len(non_geographic_article_texts)\n",
    "preprocessed_article_texts = [preprocess_text(text) for text in all_article_texts]\n",
    "\n",
    "# Feature extraction using Bag-of-Words\n",
    "text_vectorizer = CountVectorizer()\n",
    "X_feature_matrix = text_vectorizer.fit_transform(preprocessed_article_texts)\n",
    "y_labels = article_labels\n",
    "\n",
    "# Train Logistic Regression model\n",
    "classification_model = LogisticRegression()\n",
    "classification_model.fit(X_feature_matrix, y_labels)\n",
    "\n",
    "# Predictions for the entire dataset\n",
    "predicted_labels = classification_model.predict(X_feature_matrix)\n",
    "\n",
    "# Evaluation\n",
    "accuracy_result = accuracy_score(y_labels, predicted_labels)\n",
    "print(f\"\\nOverall Accuracy: {accuracy_result:.2f}\")\n",
    "\n",
    "print(\"\\nClassification Report:\")\n",
    "print(classification_report(y_labels, predicted_labels))\n"
   ]
  },
  {
   "cell_type": "code",
   "execution_count": null,
   "id": "c6d0e2a3",
   "metadata": {},
   "outputs": [],
   "source": []
  }
 ],
 "metadata": {
  "kernelspec": {
   "display_name": "Python 3 (ipykernel)",
   "language": "python",
   "name": "python3"
  },
  "language_info": {
   "codemirror_mode": {
    "name": "ipython",
    "version": 3
   },
   "file_extension": ".py",
   "mimetype": "text/x-python",
   "name": "python",
   "nbconvert_exporter": "python",
   "pygments_lexer": "ipython3",
   "version": "3.11.5"
  }
 },
 "nbformat": 4,
 "nbformat_minor": 5
}
